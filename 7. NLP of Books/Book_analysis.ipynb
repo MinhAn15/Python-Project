{
 "cells": [
  {
   "cell_type": "markdown",
   "id": "b2dfff75-7b7a-43e9-9db2-624e8ae345c5",
   "metadata": {},
   "source": [
    "# Load the Book"
   ]
  },
  {
   "cell_type": "code",
   "execution_count": 3,
   "id": "655eda54-ee80-41f5-adfa-51707642ebff",
   "metadata": {},
   "outputs": [],
   "source": [
    "with open(\"miracle_in_the_andes.txt\", \"r\", encoding='utf-8') as file:\n",
    "    book = file.read()"
   ]
  },
  {
   "cell_type": "code",
   "execution_count": 9,
   "id": "3c523a22-dae8-4b5e-94f0-185a28e86ab7",
   "metadata": {},
   "outputs": [
    {
     "data": {
      "text/plain": [
       "str"
      ]
     },
     "execution_count": 9,
     "metadata": {},
     "output_type": "execute_result"
    }
   ],
   "source": [
    "type(book)"
   ]
  },
  {
   "cell_type": "markdown",
   "id": "ed1a00e8-2e3d-4b4c-835d-32fb3160ccee",
   "metadata": {
    "tags": []
   },
   "source": [
    "# How many Chapter"
   ]
  },
  {
   "cell_type": "code",
   "execution_count": 4,
   "id": "6fae1260-2c00-4eda-8846-acc1e87bf03c",
   "metadata": {},
   "outputs": [],
   "source": [
    "import re"
   ]
  },
  {
   "cell_type": "code",
   "execution_count": 5,
   "id": "7b7e2f6f-fb87-4b74-9f0e-ff0a1c0be670",
   "metadata": {},
   "outputs": [
    {
     "data": {
      "text/plain": [
       "10"
      ]
     },
     "execution_count": 5,
     "metadata": {},
     "output_type": "execute_result"
    }
   ],
   "source": [
    "pattern = re.compile(\"Chapter [0-9]+\")\n",
    "chapters = re.findall(pattern, book)\n",
    "len(chapters)"
   ]
  },
  {
   "cell_type": "markdown",
   "id": "78268af0-59cb-4801-b338-a773ed8b04a6",
   "metadata": {},
   "source": [
    "# Which are the sentences that 'love' were used?"
   ]
  },
  {
   "cell_type": "code",
   "execution_count": 6,
   "id": "3a561dbc-adfc-4bdc-8d1f-1b938cab964d",
   "metadata": {},
   "outputs": [
    {
     "data": {
      "text/plain": [
       "67"
      ]
     },
     "execution_count": 6,
     "metadata": {},
     "output_type": "execute_result"
    }
   ],
   "source": [
    "pattern = re.compile(\"[A-Z]{1}[^.]*[^a-zA-Z]+love[^a-zA-Z]+[^.]*.\")\n",
    "findings = re.findall(pattern, book)\n",
    "len(findings)\n",
    "\n"
   ]
  },
  {
   "cell_type": "markdown",
   "id": "b057c5c0-d710-4256-99f0-510d1400477e",
   "metadata": {},
   "source": [
    "# Which are the most common words?"
   ]
  },
  {
   "cell_type": "code",
   "execution_count": 8,
   "id": "c94943bb-e6ad-413a-ae02-5b5a40d1f3ad",
   "metadata": {},
   "outputs": [],
   "source": [
    "import re\n",
    "\n",
    "pattern = re.compile(\"[a-zA-Z]+\")\n",
    "findings = re.findall(pattern, book.lower())\n",
    "d = dict()\n",
    "for word in findings:\n",
    "    d[word] = d.get(word,0) + 1\n",
    "\n",
    "    "
   ]
  },
  {
   "cell_type": "code",
   "execution_count": 11,
   "id": "bea04153-d847-4bb9-9a4a-ef1867cdc9fa",
   "metadata": {},
   "outputs": [
    {
     "name": "stdout",
     "output_type": "stream",
     "text": [
      "the\n",
      "5346\n"
     ]
    }
   ],
   "source": [
    "max_value = max(d, key=d.get)\n",
    "print(max_value)\n",
    "print(d[max_value])"
   ]
  },
  {
   "cell_type": "code",
   "execution_count": null,
   "id": "da87b13c-0d14-4c7e-88ef-9d50d63f874f",
   "metadata": {},
   "outputs": [],
   "source": []
  }
 ],
 "metadata": {
  "kernelspec": {
   "display_name": "Python 3 (ipykernel)",
   "language": "python",
   "name": "python3"
  },
  "language_info": {
   "codemirror_mode": {
    "name": "ipython",
    "version": 3
   },
   "file_extension": ".py",
   "mimetype": "text/x-python",
   "name": "python",
   "nbconvert_exporter": "python",
   "pygments_lexer": "ipython3",
   "version": "3.9.7"
  }
 },
 "nbformat": 4,
 "nbformat_minor": 5
}
